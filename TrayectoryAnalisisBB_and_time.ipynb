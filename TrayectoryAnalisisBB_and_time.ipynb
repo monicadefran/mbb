{
 "cells": [
  {
   "cell_type": "code",
   "execution_count": 1,
   "metadata": {
    "collapsed": true
   },
   "outputs": [],
   "source": [
    "%matplotlib inline\n",
    "import matplotlib.pyplot as plt\n",
    "import numpy as np\n",
    "import os"
   ]
  },
  {
   "cell_type": "markdown",
   "metadata": {},
   "source": [
    "# Calculate duration on the navigation"
   ]
  },
  {
   "cell_type": "code",
   "execution_count": 3,
   "metadata": {
    "collapsed": false
   },
   "outputs": [
    {
     "name": "stdout",
     "output_type": "stream",
     "text": [
      "Trayectory time =  1 : 24 : 17\n"
     ]
    }
   ],
   "source": [
    "#number = 4\n",
    "tmp_time = []\n",
    "Total_tray_time = []\n",
    "with open ('GBB001_(003151)/Logs/201503231059-log.txt', 'r') as filee: #split de data\n",
    "    for line in filee:\n",
    "        time = line.split(' ')[1].split(';')[0].split(':') \n",
    "        tmp_time.append (time) # list with all the hours\n",
    "       \n",
    "       \n",
    "prev_time = tmp_time [0] # the first hour\n",
    "prev_time_seconds = int (prev_time [0]) * 3600 + int (prev_time [1])*60 + int (prev_time [2]) # convert to seconds\n",
    "\n",
    "actual_time = tmp_time[len(tmp_time)-1] # the last hour\n",
    "actual_time_seconds = int(actual_time [0])* 3600 + int(actual_time [1])* 60 + int(actual_time [2])\n",
    "\n",
    "tmp_tray_time =  actual_time_seconds - prev_time_seconds # the total time spend during the navigation  \n",
    "tray_time_h = (tmp_tray_time/3600) # calculate de hours\n",
    "aux = tmp_tray_time % 3600 # calculate de rest of the hours\n",
    "tray_time_m = (aux/60) # calculate the minutes\n",
    "tray_time_s = aux%60 # calculate de seconds\n",
    "    \n",
    "#tray_time_s = tray_time_m\n",
    "Total_tray_time = tray_time_h, tray_time_m, tray_time_s    \n",
    "print 'Trayectory time = ' , tray_time_h,':', tray_time_m,':',tray_time_s     "
   ]
  },
  {
   "cell_type": "code",
   "execution_count": 17,
   "metadata": {
    "collapsed": false
   },
   "outputs": [
    {
     "name": "stdout",
     "output_type": "stream",
     "text": [
      "First day:  23\n",
      "First hour:  10\n",
      "First minute:  59\n"
     ]
    }
   ],
   "source": [
    "#number = 4\n",
    "with open ('GBB001_(003151)/Logs/201503231059-log.txt', 'r') as filee: \n",
    "    for line in filee:\n",
    "        words = line.split(' ')\n",
    "    \n",
    "        prev_hour =  int(words[1][0:2])\n",
    "        prev_min =  int(words[1][3:5])\n",
    "        prev_day = int (words[0][3:5])\n",
    "        \n",
    "        print 'First day: ', prev_day\n",
    "        print 'First hour: ', prev_hour\n",
    "        print 'First minute: ', prev_min\n",
    "        break"
   ]
  },
  {
   "cell_type": "code",
   "execution_count": 26,
   "metadata": {
    "collapsed": false
   },
   "outputs": [
    {
     "name": "stdout",
     "output_type": "stream",
     "text": [
      "29882\n"
     ]
    }
   ],
   "source": [
    "counter = 0\n",
    "total_data = []\n",
    "tmp_data = []\n",
    "with open ('GBB001_(003151)/Logs/201503231059-log.txt', 'r') as filee:\n",
    "    for line in filee:\n",
    "        words = line.split(' ')\n",
    "        actual_min =  int(words[1][3:5])\n",
    "        \n",
    "        if actual_min != 59 and abs(prev_min-actual_min)<=1:\n",
    "            tmp_data.append(line)\n",
    "            \n",
    "        elif actual_min==0 and prev_min ==59:\n",
    "            tmp_data.append(line)\n",
    "    \n",
    "        #elif  actual_day != 30 and abs(prev_min-actual_min)<1:\n",
    "            #tmp_data.append(line)    \n",
    "            \n",
    "        #elif  actual_min != 59 and abs(prev_min-actual_min)<=4:\n",
    "            #tmp_data.append(line)\n",
    "            \n",
    "        else:\n",
    "            if len(tmp_data)>0:\n",
    "                total_data.append( tmp_data )\n",
    "                print counter\n",
    "            tmp_data = []\n",
    "            \n",
    "        prev_min =  int(words[1][3:5])\n",
    "        counter+=1\n",
    "    \n",
    "            "
   ]
  },
  {
   "cell_type": "markdown",
   "metadata": {},
   "source": [
    "# Represent the trajectory with the 3D points"
   ]
  },
  {
   "cell_type": "code",
   "execution_count": 27,
   "metadata": {
    "collapsed": false
   },
   "outputs": [
    {
     "name": "stdout",
     "output_type": "stream",
     "text": [
      "29816\n"
     ]
    },
    {
     "data": {
      "image/png": "[encoded data removed]",
      "text/plain": [
       "<matplotlib.figure.Figure at 0xaac46d8>"
      ]
     },
     "metadata": {},
     "output_type": "display_data"
    }
   ],
   "source": [
    "counter = 0\n",
    "count_xx = 0\n",
    "sssppp = 1\n",
    "for trial in range(len(total_data)):\n",
    "\n",
    "    xx,yy = [],[]\n",
    "\n",
    "    for ii in range(len( total_data[trial]  )):\n",
    "        if total_data[trial][ii][-2] == ')':\n",
    "            tmp_xx = total_data[trial][ii].split('3D')[1][1:].split(',')[0]\n",
    "            tmp_yy = total_data[trial][ii].split('3D')[1][1:].split(',')[1].split(')')[0]\n",
    "\n",
    "            xx.append(tmp_xx)\n",
    "            yy.append(tmp_yy)\n",
    "            \n",
    "    count_xx += len(xx)\n",
    "\n",
    "#     plt.subplot(3,1,sssppp)\n",
    "    plt.plot(xx,yy)\n",
    "    sssppp += 1\n",
    "    \n",
    "print count_xx"
   ]
  },
  {
   "cell_type": "markdown",
   "metadata": {},
   "source": [
    "# Represent the trajectory with the GPS points"
   ]
  },
  {
   "cell_type": "code",
   "execution_count": 28,
   "metadata": {
    "collapsed": false
   },
   "outputs": [
    {
     "data": {
      "image/png": "[encoded data removed]",
      "text/plain": [
       "<matplotlib.figure.Figure at 0xaac3358>"
      ]
     },
     "metadata": {},
     "output_type": "display_data"
    }
   ],
   "source": [
    "#os.mkdir( 'TrayectoryAll')\n",
    "sssppp = 1\n",
    "tt1=[]\n",
    "for trial in range(len(total_data)):\n",
    "\n",
    "    xx,yy = [],[]\n",
    "\n",
    "    if len( total_data[trial]) > 0:\n",
    "        for ii in range(len( total_data[trial]  )):\n",
    "            if total_data[trial][ii][-2] == ')':\n",
    "                \n",
    "                ttt11 = total_data[trial][ii].split(';')[2][4:-1].split(',')\n",
    "                xx.append(ttt11[0])\n",
    "                yy.append(ttt11[1])\n",
    "                prev_xx = float(ttt11[0])\n",
    "                prev_yy = float(ttt11[1])\n",
    "                for ppp in ttt11:\n",
    "                    actual_xx = float(ttt11[0])\n",
    "                    actual_yy = float(ttt11[1])\n",
    "                    a = abs(prev_xx - actual_xx)\n",
    "                    #print 'abs: ', a\n",
    "                    \n",
    "                    break\n",
    "                    #print 'Postpost: ',prev_xx\n",
    "                   \n",
    "                    #if abs( prev_xx - actual_xx) and abs(prev_yy - actual_yy)!= 0.0:\n",
    "                        \n",
    "                    \n",
    "      \n",
    "        plt.subplot(3,1,sssppp)\n",
    "        plt.plot(xx,yy)\n",
    "        sssppp += 1\n"
   ]
  }
 ],
 "metadata": {
  "kernelspec": {
   "display_name": "Python 2",
   "language": "python",
   "name": "python2"
  },
  "language_info": {
   "codemirror_mode": {
    "name": "ipython",
    "version": 2
   },
   "file_extension": ".py",
   "mimetype": "text/x-python",
   "name": "python",
   "nbconvert_exporter": "python",
   "pygments_lexer": "ipython2",
   "version": "2.7.11"
  }
 },
 "nbformat": 4,
 "nbformat_minor": 0
}
